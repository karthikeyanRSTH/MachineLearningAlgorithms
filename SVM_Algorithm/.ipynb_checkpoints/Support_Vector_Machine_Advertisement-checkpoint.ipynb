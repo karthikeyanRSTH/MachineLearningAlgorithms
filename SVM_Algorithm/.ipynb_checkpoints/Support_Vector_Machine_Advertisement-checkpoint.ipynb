{
 "cells": [
  {
   "cell_type": "code",
   "execution_count": null,
   "metadata": {},
   "outputs": [],
   "source": [
    "import numpy as np\n",
    "import pandas as pd "
   ]
  },
  {
   "cell_type": "code",
   "execution_count": null,
   "metadata": {},
   "outputs": [],
   "source": [
    "#read the data file which has advertisements information and store it in a dataframe\n",
    "adv_data_file='advertisements.csv'\n",
    "adv_data=pd.read_csv(adv_data_file,sep=\",\",header=None,low_memory=False)\n",
    "print(adv_data.head(5))\n",
    "print('Dataframe shape:  - ', adv_data.shape)"
   ]
  },
  {
   "cell_type": "code",
   "execution_count": null,
   "metadata": {},
   "outputs": [],
   "source": [
    "#Change the label to numerical value 0 for nonad and 1 for ad\n",
    "def labelToNum(labelValue):\n",
    "    if  labelValue==\"ad.\":\n",
    "        return 1\n",
    "    else:\n",
    "        return 0\n",
    "#create a separate dataframe for label value    \n",
    "adv_label=adv_data.iloc[:,-1].apply(labelToNum)\n",
    "#Convert all the non numeric values to NAN and eliminate label column\n",
    "adv_data=adv_data.iloc[:,0:-1].apply(pd.to_numeric,errors='coerce')"
   ]
  },
  {
   "cell_type": "code",
   "execution_count": null,
   "metadata": {},
   "outputs": [],
   "source": [
    "print(adv_data.head(5))\n",
    "print(adv_label.head(5))"
   ]
  },
  {
   "cell_type": "code",
   "execution_count": null,
   "metadata": {
    "scrolled": true
   },
   "outputs": [],
   "source": [
    "#remove the rows which has NAN from data\n",
    "adv_data=adv_data.dropna()\n",
    "print('Dataframe shape:  - ', adv_data.shape)"
   ]
  },
  {
   "cell_type": "code",
   "execution_count": null,
   "metadata": {},
   "outputs": [],
   "source": [
    "# Train the Support Vector Machine Alogirthm with our data \n",
    "from sklearn.svm import LinearSVC \n",
    "\n",
    "svm_classifier = LinearSVC()\n",
    "svm_classifier.fit(adv_data[150:2000],adv_label[150:2000])"
   ]
  },
  {
   "cell_type": "code",
   "execution_count": null,
   "metadata": {},
   "outputs": [],
   "source": [
    "#Test the model created by algorithm using the predict method\n",
    "svm_classifier.predict(adv_data.iloc[50].values.reshape(1,-1))"
   ]
  },
  {
   "cell_type": "code",
   "execution_count": null,
   "metadata": {},
   "outputs": [],
   "source": [
    "svm_classifier.predict(adv_data.iloc[2100].values.reshape(1,-1))"
   ]
  },
  {
   "cell_type": "code",
   "execution_count": null,
   "metadata": {},
   "outputs": [],
   "source": []
  },
  {
   "cell_type": "code",
   "execution_count": null,
   "metadata": {},
   "outputs": [],
   "source": []
  },
  {
   "cell_type": "code",
   "execution_count": null,
   "metadata": {},
   "outputs": [],
   "source": []
  },
  {
   "cell_type": "code",
   "execution_count": null,
   "metadata": {},
   "outputs": [],
   "source": []
  },
  {
   "cell_type": "code",
   "execution_count": null,
   "metadata": {},
   "outputs": [],
   "source": []
  },
  {
   "cell_type": "code",
   "execution_count": null,
   "metadata": {},
   "outputs": [],
   "source": []
  },
  {
   "cell_type": "code",
   "execution_count": null,
   "metadata": {},
   "outputs": [],
   "source": []
  },
  {
   "cell_type": "code",
   "execution_count": null,
   "metadata": {},
   "outputs": [],
   "source": []
  }
 ],
 "metadata": {
  "kernelspec": {
   "display_name": "Python 3",
   "language": "python",
   "name": "python3"
  },
  "language_info": {
   "codemirror_mode": {
    "name": "ipython",
    "version": 3
   },
   "file_extension": ".py",
   "mimetype": "text/x-python",
   "name": "python",
   "nbconvert_exporter": "python",
   "pygments_lexer": "ipython3",
   "version": "3.6.5"
  }
 },
 "nbformat": 4,
 "nbformat_minor": 1
}

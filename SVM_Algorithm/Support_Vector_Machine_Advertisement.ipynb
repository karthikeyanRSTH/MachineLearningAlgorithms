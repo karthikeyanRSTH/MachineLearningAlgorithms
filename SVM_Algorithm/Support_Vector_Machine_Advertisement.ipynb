{
 "cells": [
  {
   "cell_type": "code",
   "execution_count": 1,
   "metadata": {},
   "outputs": [],
   "source": [
    "import numpy as np\n",
    "import pandas as pd "
   ]
  },
  {
   "cell_type": "code",
   "execution_count": 2,
   "metadata": {},
   "outputs": [
    {
     "name": "stdout",
     "output_type": "stream",
     "text": [
      "   0     1       2    3     4     5     6     7     8     9     ...   1549  \\\n",
      "0   125   125     1.0    1     0     0     0     0     0     0  ...      0   \n",
      "1    57   468  8.2105    1     0     0     0     0     0     0  ...      0   \n",
      "2    33   230  6.9696    1     0     0     0     0     0     0  ...      0   \n",
      "3    60   468     7.8    1     0     0     0     0     0     0  ...      0   \n",
      "4    60   468     7.8    1     0     0     0     0     0     0  ...      0   \n",
      "\n",
      "   1550  1551  1552  1553  1554  1555  1556  1557  1558  \n",
      "0     0     0     0     0     0     0     0     0   ad.  \n",
      "1     0     0     0     0     0     0     0     0   ad.  \n",
      "2     0     0     0     0     0     0     0     0   ad.  \n",
      "3     0     0     0     0     0     0     0     0   ad.  \n",
      "4     0     0     0     0     0     0     0     0   ad.  \n",
      "\n",
      "[5 rows x 1559 columns]\n",
      "Dataframe shape:  -  (3279, 1559)\n"
     ]
    }
   ],
   "source": [
    "#read the data file which has advertisements information and store it in a dataframe\n",
    "adv_data_file='advertisements.csv'\n",
    "adv_data=pd.read_csv(adv_data_file,sep=\",\",header=None,low_memory=False)\n",
    "print(adv_data.head(5))\n",
    "print('Dataframe shape:  - ', adv_data.shape)"
   ]
  },
  {
   "cell_type": "code",
   "execution_count": 3,
   "metadata": {},
   "outputs": [],
   "source": [
    "#Change the label to numerical value 0 for nonad and 1 for ad\n",
    "def labelToNum(labelValue):\n",
    "    if  labelValue==\"ad.\":\n",
    "        return 1\n",
    "    else:\n",
    "        return 0\n",
    "#create a separate dataframe for label value    \n",
    "adv_label=adv_data.iloc[:,-1].apply(labelToNum)\n",
    "#Convert all the non numeric values to NAN and eliminate label column\n",
    "adv_data=adv_data.iloc[:,0:-1].apply(pd.to_numeric,errors='coerce')"
   ]
  },
  {
   "cell_type": "code",
   "execution_count": 4,
   "metadata": {},
   "outputs": [
    {
     "name": "stdout",
     "output_type": "stream",
     "text": [
      "    0      1       2     3     4     5     6     7     8     9     ...   1548  \\\n",
      "0  125.0  125.0  1.0000   1.0     0     0     0     0     0     0  ...      0   \n",
      "1   57.0  468.0  8.2105   1.0     0     0     0     0     0     0  ...      0   \n",
      "2   33.0  230.0  6.9696   1.0     0     0     0     0     0     0  ...      0   \n",
      "3   60.0  468.0  7.8000   1.0     0     0     0     0     0     0  ...      0   \n",
      "4   60.0  468.0  7.8000   1.0     0     0     0     0     0     0  ...      0   \n",
      "\n",
      "   1549  1550  1551  1552  1553  1554  1555  1556  1557  \n",
      "0     0     0     0     0     0     0     0     0     0  \n",
      "1     0     0     0     0     0     0     0     0     0  \n",
      "2     0     0     0     0     0     0     0     0     0  \n",
      "3     0     0     0     0     0     0     0     0     0  \n",
      "4     0     0     0     0     0     0     0     0     0  \n",
      "\n",
      "[5 rows x 1558 columns]\n",
      "0    1\n",
      "1    1\n",
      "2    1\n",
      "3    1\n",
      "4    1\n",
      "Name: 1558, dtype: int64\n"
     ]
    }
   ],
   "source": [
    "print(adv_data.head(5))\n",
    "print(adv_label.head(5))"
   ]
  },
  {
   "cell_type": "code",
   "execution_count": 5,
   "metadata": {
    "scrolled": true
   },
   "outputs": [
    {
     "name": "stdout",
     "output_type": "stream",
     "text": [
      "Dataframe shape:  -  (2359, 1558)\n"
     ]
    }
   ],
   "source": [
    "#remove the rows which has NAN from data\n",
    "adv_data=adv_data.dropna()\n",
    "print('Dataframe shape:  - ', adv_data.shape)"
   ]
  },
  {
   "cell_type": "code",
   "execution_count": 6,
   "metadata": {},
   "outputs": [
    {
     "name": "stderr",
     "output_type": "stream",
     "text": [
      "c:\\users\\z062495\\appdata\\local\\continuum\\miniconda3\\lib\\site-packages\\sklearn\\svm\\base.py:922: ConvergenceWarning: Liblinear failed to converge, increase the number of iterations.\n",
      "  \"the number of iterations.\", ConvergenceWarning)\n"
     ]
    },
    {
     "data": {
      "text/plain": [
       "LinearSVC(C=1.0, class_weight=None, dual=True, fit_intercept=True,\n",
       "     intercept_scaling=1, loss='squared_hinge', max_iter=1000,\n",
       "     multi_class='ovr', penalty='l2', random_state=None, tol=0.0001,\n",
       "     verbose=0)"
      ]
     },
     "execution_count": 6,
     "metadata": {},
     "output_type": "execute_result"
    }
   ],
   "source": [
    "# Train the Support Vector Machine Alogirthm with our data \n",
    "from sklearn.svm import LinearSVC \n",
    "\n",
    "svm_classifier = LinearSVC()\n",
    "svm_classifier.fit(adv_data[150:2000],adv_label[150:2000])"
   ]
  },
  {
   "cell_type": "code",
   "execution_count": 7,
   "metadata": {},
   "outputs": [
    {
     "data": {
      "text/plain": [
       "array([1], dtype=int64)"
      ]
     },
     "execution_count": 7,
     "metadata": {},
     "output_type": "execute_result"
    }
   ],
   "source": [
    "#Test the model created by algorithm using the predict method\n",
    "svm_classifier.predict(adv_data.iloc[50].values.reshape(1,-1))"
   ]
  },
  {
   "cell_type": "code",
   "execution_count": 8,
   "metadata": {},
   "outputs": [
    {
     "data": {
      "text/plain": [
       "array([0], dtype=int64)"
      ]
     },
     "execution_count": 8,
     "metadata": {},
     "output_type": "execute_result"
    }
   ],
   "source": [
    "svm_classifier.predict(adv_data.iloc[2100].values.reshape(1,-1))"
   ]
  },
  {
   "cell_type": "code",
   "execution_count": null,
   "metadata": {},
   "outputs": [],
   "source": []
  },
  {
   "cell_type": "code",
   "execution_count": null,
   "metadata": {},
   "outputs": [],
   "source": []
  },
  {
   "cell_type": "code",
   "execution_count": null,
   "metadata": {},
   "outputs": [],
   "source": []
  },
  {
   "cell_type": "code",
   "execution_count": null,
   "metadata": {},
   "outputs": [],
   "source": []
  },
  {
   "cell_type": "code",
   "execution_count": null,
   "metadata": {},
   "outputs": [],
   "source": []
  },
  {
   "cell_type": "code",
   "execution_count": null,
   "metadata": {},
   "outputs": [],
   "source": []
  },
  {
   "cell_type": "code",
   "execution_count": null,
   "metadata": {},
   "outputs": [],
   "source": []
  },
  {
   "cell_type": "code",
   "execution_count": null,
   "metadata": {},
   "outputs": [],
   "source": []
  }
 ],
 "metadata": {
  "kernelspec": {
   "display_name": "Python 3",
   "language": "python",
   "name": "python3"
  },
  "language_info": {
   "codemirror_mode": {
    "name": "ipython",
    "version": 3
   },
   "file_extension": ".py",
   "mimetype": "text/x-python",
   "name": "python",
   "nbconvert_exporter": "python",
   "pygments_lexer": "ipython3",
   "version": "3.6.5"
  }
 },
 "nbformat": 4,
 "nbformat_minor": 1
}

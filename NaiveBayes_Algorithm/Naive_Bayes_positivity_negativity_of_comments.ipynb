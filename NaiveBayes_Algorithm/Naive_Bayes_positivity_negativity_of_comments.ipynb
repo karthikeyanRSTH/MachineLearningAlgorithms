{
 "cells": [
  {
   "cell_type": "code",
   "execution_count": 1,
   "metadata": {},
   "outputs": [],
   "source": [
    "from sklearn.feature_extraction.text import CountVectorizer\n",
    "from sklearn.naive_bayes import BernoulliNB"
   ]
  },
  {
   "cell_type": "code",
   "execution_count": 2,
   "metadata": {},
   "outputs": [
    {
     "name": "stdout",
     "output_type": "stream",
     "text": [
      "\n",
      " Size of raw data:  3000\n"
     ]
    }
   ],
   "source": [
    "#opens text file in read only mode which has comments and label separatd by tab.  \n",
    "#label value 1 is positive and 0 is negative\n",
    "#Each comment should be on a separate line\n",
    "\n",
    "with open(\"labelled_shorttexts.txt\", \"r\") as shorttext_file: \n",
    "# split file by newline character and assign to a list, with each line in a separate list element\n",
    "    shorttext_list = shorttext_file.read().split('\\n')\n",
    "    print('\\n', 'Size of raw data: ',len(shorttext_list))"
   ]
  },
  {
   "cell_type": "code",
   "execution_count": 3,
   "metadata": {},
   "outputs": [
    {
     "name": "stdout",
     "output_type": "stream",
     "text": [
      "\n",
      " Size of list after eliminating invalid lengths:  2993\n",
      "\n",
      " Size of list after eliminating invalid labels:  2989\n",
      "\n",
      " Snapshot of file as list after cleansing:  \n",
      " \n",
      " [['Good case, Excellent value.', '1'], ['Great for the jawbone.', '1'], ['Tied to charger for conversations lasting more than 45 minutes.MAJOR PROBLEMS!!', '0'], ['The mic is great.', '1']]\n"
     ]
    }
   ],
   "source": [
    "# Pre process raw data ## split each element (which is a line) by tab character to create nested list \n",
    "shorttext_list = [shorttext_element.split(\"\\t\") for shorttext_element in shorttext_list]\n",
    "# Remove lines which does not have exactly two sentences\n",
    "shorttext_list = [shorttext_element for shorttext_element in shorttext_list if len(shorttext_element)==2]\n",
    "print('\\n', 'Size of list after eliminating invalid lengths: ',len(shorttext_list) )\n",
    "shorttext_list = [shorttext_element for shorttext_element in shorttext_list if shorttext_element[1]!='']\n",
    "print('\\n', 'Size of list after eliminating invalid labels: ',len(shorttext_list) )\n",
    "print('\\n', 'Snapshot of file as list after cleansing: ', '\\n', '\\n', shorttext_list[1:5]  )"
   ]
  },
  {
   "cell_type": "code",
   "execution_count": 4,
   "metadata": {},
   "outputs": [],
   "source": [
    "# Create lists to be used by algorithm\n",
    "#comments list which has only short test\n",
    "comments = [shorttext_element[0] for shorttext_element in shorttext_list ]\n",
    "#labels list which has only labels\n",
    "labels = [int(shorttext_element[1]) for shorttext_element in shorttext_list]"
   ]
  },
  {
   "cell_type": "code",
   "execution_count": 5,
   "metadata": {
    "scrolled": true
   },
   "outputs": [
    {
     "name": "stdout",
     "output_type": "stream",
     "text": [
      "\n",
      " Term frequency matrix shape for comments:  (2989, 5155)\n"
     ]
    }
   ],
   "source": [
    "#represent comments as Term Frequency using count vectorizer \n",
    "count_vectorizer = CountVectorizer(binary='true')\n",
    "comments = count_vectorizer.fit_transform(comments)\n",
    "# Term frequency matrix shape\n",
    "print ('\\n', 'Term frequency matrix shape for comments: ', comments.shape)"
   ]
  },
  {
   "cell_type": "code",
   "execution_count": 6,
   "metadata": {},
   "outputs": [],
   "source": [
    "# Train the Naive Bayes algorithm with the training data, which returns a classifier object\n",
    "classifier = BernoulliNB().fit(comments,labels)"
   ]
  },
  {
   "cell_type": "code",
   "execution_count": 7,
   "metadata": {},
   "outputs": [],
   "source": [
    "# Define function to test the input text\n",
    "def validate_comment(text):\n",
    "    response = classifier.predict(count_vectorizer.transform([text]))\n",
    "    if response == 1:\n",
    "        print ('This is a positive comment', '\\n')\n",
    "    else:\n",
    "        print ('This is a negative comment', '\\n')"
   ]
  },
  {
   "cell_type": "code",
   "execution_count": 8,
   "metadata": {},
   "outputs": [
    {
     "name": "stdout",
     "output_type": "stream",
     "text": [
      "\n",
      " Enter text to validate if positive or negative...\n",
      "\n",
      " Enter \"exit\" to quit this program\n",
      "The ambience was good at that restaurant\n",
      "This is a positive comment \n",
      "\n",
      "I did not like the taste \n",
      "This is a negative comment \n",
      "\n",
      "I don't like going there anymore\n",
      "This is a negative comment \n",
      "\n",
      "The price was fair\n",
      "This is a positive comment \n",
      "\n",
      "exit\n",
      "\n",
      " Quitting program\n"
     ]
    }
   ],
   "source": [
    "#Main program call\n",
    "print ('\\n','Enter text to validate if positive or negative...')  \n",
    "print ('\\n','Enter \"exit\" to quit this program')\n",
    "inputstring = input()\n",
    "while inputstring.lower() != 'exit':\n",
    "    validate_comment(inputstring)\n",
    "    inputstring = input()\n",
    "    \n",
    "print('\\n', 'Quitting program')\n",
    "    "
   ]
  },
  {
   "cell_type": "code",
   "execution_count": null,
   "metadata": {},
   "outputs": [],
   "source": []
  },
  {
   "cell_type": "code",
   "execution_count": null,
   "metadata": {},
   "outputs": [],
   "source": []
  },
  {
   "cell_type": "code",
   "execution_count": null,
   "metadata": {},
   "outputs": [],
   "source": []
  },
  {
   "cell_type": "code",
   "execution_count": null,
   "metadata": {},
   "outputs": [],
   "source": []
  },
  {
   "cell_type": "code",
   "execution_count": null,
   "metadata": {},
   "outputs": [],
   "source": []
  },
  {
   "cell_type": "code",
   "execution_count": null,
   "metadata": {},
   "outputs": [],
   "source": []
  }
 ],
 "metadata": {
  "kernelspec": {
   "display_name": "Python 3",
   "language": "python",
   "name": "python3"
  },
  "language_info": {
   "codemirror_mode": {
    "name": "ipython",
    "version": 3
   },
   "file_extension": ".py",
   "mimetype": "text/x-python",
   "name": "python",
   "nbconvert_exporter": "python",
   "pygments_lexer": "ipython3",
   "version": "3.6.5"
  }
 },
 "nbformat": 4,
 "nbformat_minor": 1
}
